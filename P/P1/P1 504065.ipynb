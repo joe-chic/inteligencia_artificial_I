{
 "cells": [
  {
   "cell_type": "markdown",
   "metadata": {},
   "source": [
    "# P P1. Regresión"
   ]
  },
  {
   "cell_type": "code",
   "execution_count": 10,
   "metadata": {},
   "outputs": [],
   "source": [
    "import pandas as pd\n",
    "import numpy as np\n",
    "import statsmodels.api as sm\n",
    "from sklearn.linear_model  import LinearRegression\n",
    "import statsmodels.api as sm\n",
    "from sklearn.linear_model import Lasso"
   ]
  },
  {
   "cell_type": "markdown",
   "metadata": {},
   "source": [
    "#### 1. Se trabajará con una base de datos con información variada sobre la calidad del aire, condiciones meteorlógicas y atomsféricas en Monterrey obtenida de la Secretaría del Medio Ambiente del Estado de Nuevo León del 24 de septiembre del 2024."
   ]
  },
  {
   "cell_type": "code",
   "execution_count": null,
   "metadata": {},
   "outputs": [],
   "source": [
    "data = pd.read_excel(\"SOLICITUD_289-24_septiembre.xlsx\")"
   ]
  },
  {
   "cell_type": "code",
   "execution_count": 8,
   "metadata": {},
   "outputs": [
    {
     "name": "stdout",
     "output_type": "stream",
     "text": [
      "Nombre de las variables:  ['Fecha y hora', 'CO (ppm)', 'NO (ppb)', 'NO2 (ppb)', 'NOx (ppb) ', 'O3 (ppb)', 'PM10 (µg/m3)', 'PM2,5 (µg/m3)', 'PRS (mmHg)', 'RAINF (mm/h)', 'RH (%)', 'SO2 (ppb)', 'SR (kWh/m2)', 'Temp (°C)', 'WSR (km/h)', 'WDR (°)']\n",
      "Cantidad de varibles:  16\n",
      "Cantidad de observaciones:  32133\n"
     ]
    }
   ],
   "source": [
    "n = data.shape[0]\n",
    "col_name = data.columns.to_list()\n",
    "\n",
    "print(\"Nombre de las variables: \", col_name)\n",
    "print(\"Cantidad de varibles: \", len(col_name))\n",
    "print(\"Cantidad de observaciones: \", n)"
   ]
  },
  {
   "cell_type": "markdown",
   "metadata": {},
   "source": [
    "#### 2. Se removerán huecos en la información. "
   ]
  },
  {
   "cell_type": "code",
   "execution_count": 9,
   "metadata": {},
   "outputs": [
    {
     "name": "stdout",
     "output_type": "stream",
     "text": [
      "         Fecha y hora  CO (ppm)  NO (ppb)  NO2 (ppb)  NOx (ppb)   O3 (ppb)  \\\n",
      "0 2021-01-01 00:00:00      3.02       NaN        NaN         NaN       9.0   \n",
      "1 2021-01-01 01:00:00      2.94       NaN        NaN         NaN      13.0   \n",
      "2 2021-01-01 02:00:00      2.94       NaN        NaN         NaN      12.0   \n",
      "3 2021-01-01 03:00:00      2.97       NaN        NaN         NaN      11.0   \n",
      "4 2021-01-01 04:00:00      3.00       NaN        NaN         NaN      11.0   \n",
      "\n",
      "   PM10 (µg/m3)  PM2,5 (µg/m3)  PRS (mmHg)  RAINF (mm/h)  RH (%)  SO2 (ppb)  \\\n",
      "0        111.86          79.19         NaN           NaN    75.0        6.3   \n",
      "1        111.03          81.46         NaN           0.0    77.0        6.5   \n",
      "2         68.70          48.07         NaN           0.0    80.0        6.3   \n",
      "3         63.77          43.35         NaN           0.0    82.0        6.2   \n",
      "4         72.11          45.47         NaN           0.0    83.0        6.3   \n",
      "\n",
      "   SR (kWh/m2)  Temp (°C)  WSR (km/h)  WDR (°)  \n",
      "0        0.000        NaN         6.6      NaN  \n",
      "1        0.007        NaN        14.2      NaN  \n",
      "2        0.007       5.96        11.5      NaN  \n",
      "3        0.007       5.38         6.6      NaN  \n",
      "4        0.007       4.95         7.5      NaN  \n"
     ]
    }
   ],
   "source": [
    "print(data.head(5))"
   ]
  },
  {
   "cell_type": "markdown",
   "metadata": {},
   "source": [
    "#### Matriz de correlación"
   ]
  },
  {
   "cell_type": "markdown",
   "metadata": {},
   "source": [
    "#### Datos atípicos"
   ]
  },
  {
   "cell_type": "markdown",
   "metadata": {},
   "source": [
    "#### 3. Selección de características"
   ]
  },
  {
   "cell_type": "markdown",
   "metadata": {},
   "source": [
    "#### 4. Análisis de predicción, modelo de regresión lineal y no lineal."
   ]
  },
  {
   "cell_type": "markdown",
   "metadata": {},
   "source": [
    "#### 5. RMSE y nivel de linealidad..."
   ]
  },
  {
   "cell_type": "markdown",
   "metadata": {},
   "source": [
    "#### 6. Análisis de inferencia, modelo de regresión lineal y no lineal."
   ]
  },
  {
   "cell_type": "markdown",
   "metadata": {},
   "source": [
    "#### <b>Código de honor:</b> Doy mi palabra de que he realizado esta actividad con integridad académica."
   ]
  }
 ],
 "metadata": {
  "kernelspec": {
   "display_name": "base",
   "language": "python",
   "name": "python3"
  },
  "language_info": {
   "codemirror_mode": {
    "name": "ipython",
    "version": 3
   },
   "file_extension": ".py",
   "mimetype": "text/x-python",
   "name": "python",
   "nbconvert_exporter": "python",
   "pygments_lexer": "ipython3",
   "version": "3.11.5"
  }
 },
 "nbformat": 4,
 "nbformat_minor": 2
}
