{
 "cells": [
  {
   "cell_type": "markdown",
   "metadata": {},
   "source": [
    "A1.3 Regresión Lineal Múltiple"
   ]
  },
  {
   "cell_type": "code",
   "execution_count": 17,
   "metadata": {},
   "outputs": [],
   "source": [
    "import numpy as np\n",
    "import matplotlib.pyplot as plt\n",
    "import pandas as pd\n",
    "from sklearn import linear_model\n",
    "import statsmodels.api as sm"
   ]
  },
  {
   "cell_type": "markdown",
   "metadata": {},
   "source": [
    "1. Desplejar los primeros 15 datos del archivo NASA.csv"
   ]
  },
  {
   "cell_type": "code",
   "execution_count": 4,
   "metadata": {},
   "outputs": [
    {
     "name": "stdout",
     "output_type": "stream",
     "text": [
      "    frecuencia  angulo  longitud  velocidad   espesor  presion\n",
      "0          800     0.0    0.3048       71.3  0.002663  126.201\n",
      "1         1000     0.0    0.3048       71.3  0.002663  125.201\n",
      "2         1250     0.0    0.3048       71.3  0.002663  125.951\n",
      "3         1600     0.0    0.3048       71.3  0.002663  127.591\n",
      "4         2000     0.0    0.3048       71.3  0.002663  127.461\n",
      "5         2500     0.0    0.3048       71.3  0.002663  125.571\n",
      "6         3150     0.0    0.3048       71.3  0.002663  125.201\n",
      "7         4000     0.0    0.3048       71.3  0.002663  123.061\n",
      "8         5000     0.0    0.3048       71.3  0.002663  121.301\n",
      "9         6300     0.0    0.3048       71.3  0.002663  119.541\n",
      "10        8000     0.0    0.3048       71.3  0.002663  117.151\n",
      "11       10000     0.0    0.3048       71.3  0.002663  115.391\n",
      "12       12500     0.0    0.3048       71.3  0.002663  112.241\n",
      "13       16000     0.0    0.3048       71.3  0.002663  108.721\n",
      "14         500     0.0    0.3048       55.5  0.002831  126.416\n"
     ]
    }
   ],
   "source": [
    "data = pd.read_csv(\"A1.3 NASA.csv\")\n",
    "print(data.head(15))"
   ]
  },
  {
   "cell_type": "markdown",
   "metadata": {},
   "source": [
    "2. Separación de datos. Se utiliza la función sample() en el objeto DataFrame data con frac=1 para randomizar los datos, y se almacena la información en dataRand. Después, se calcula el tamaño que deba tener los datos train usando un ratio del 70% y el tamaño actual de registros en data. Después, se dividen en dos partes y se almacenan los datos de entrenamiento en train y el resto para prueba en test. "
   ]
  },
  {
   "cell_type": "code",
   "execution_count": 7,
   "metadata": {},
   "outputs": [
    {
     "name": "stdout",
     "output_type": "stream",
     "text": [
      "Dimensiones originales de data:  (1503, 6)\n",
      "Dimensiones de train:  (1052, 6)\n",
      "Dimensiones de test:  (451, 6)\n"
     ]
    }
   ],
   "source": [
    "dataRand = data.sample(frac=1)\n",
    "ratio = .70\n",
    "total_rows = dataRand.shape[0]\n",
    "train_size = int(total_rows*ratio)\n",
    "\n",
    "train = dataRand[0:train_size]\n",
    "test = dataRand[train_size:]\n",
    "\n",
    "print(\"Dimensiones originales de data: \", data.shape)\n",
    "print(\"Dimensiones de train: \", train.shape)\n",
    "print(\"Dimensiones de test: \", test.shape)"
   ]
  },
  {
   "cell_type": "markdown",
   "metadata": {},
   "source": [
    "3. Creación de modelo de regresión lineal múltiple. El resumen se obtiene utilizando la función summary() sobre el objeto sm que utiliza Ordinary Linear Regression."
   ]
  },
  {
   "cell_type": "code",
   "execution_count": 24,
   "metadata": {},
   "outputs": [
    {
     "name": "stdout",
     "output_type": "stream",
     "text": [
      "                            OLS Regression Results                            \n",
      "==============================================================================\n",
      "Dep. Variable:                presion   R-squared:                       0.513\n",
      "Model:                            OLS   Adj. R-squared:                  0.511\n",
      "Method:                 Least Squares   F-statistic:                     220.5\n",
      "Date:                Tue, 28 Jan 2025   Prob (F-statistic):          1.05e-160\n",
      "Time:                        18:46:39   Log-Likelihood:                -3148.6\n",
      "No. Observations:                1052   AIC:                             6309.\n",
      "Df Residuals:                    1046   BIC:                             6339.\n",
      "Df Model:                           5                                         \n",
      "Covariance Type:            nonrobust                                         \n",
      "==============================================================================\n",
      "                 coef    std err          t      P>|t|      [0.025      0.975]\n",
      "------------------------------------------------------------------------------\n",
      "const        132.6174      0.648    204.777      0.000     131.347     133.888\n",
      "frecuencia    -0.0013   4.96e-05    -25.557      0.000      -0.001      -0.001\n",
      "angulo        -0.4175      0.047     -8.861      0.000      -0.510      -0.325\n",
      "longitud     -35.4777      1.941    -18.282      0.000     -39.286     -31.670\n",
      "velocidad      0.1025      0.010     10.525      0.000       0.083       0.122\n",
      "espesor     -141.9845     18.482     -7.682      0.000    -178.250    -105.719\n",
      "==============================================================================\n",
      "Omnibus:                        9.722   Durbin-Watson:                   2.015\n",
      "Prob(Omnibus):                  0.008   Jarque-Bera (JB):               14.180\n",
      "Skew:                          -0.022   Prob(JB):                     0.000834\n",
      "Kurtosis:                       3.567   Cond. No.                     5.43e+05\n",
      "==============================================================================\n",
      "\n",
      "Notes:\n",
      "[1] Standard Errors assume that the covariance matrix of the errors is correctly specified.\n",
      "[2] The condition number is large, 5.43e+05. This might indicate that there are\n",
      "strong multicollinearity or other numerical problems.\n",
      "P-values:\n",
      "const          0.000000e+00\n",
      "frecuencia    2.525369e-112\n",
      "angulo         3.340855e-18\n",
      "longitud       5.258226e-65\n",
      "velocidad      1.078980e-24\n",
      "espesor        3.580859e-14\n",
      "dtype: float64\n"
     ]
    }
   ],
   "source": [
    "X_train = train[[\"frecuencia\",\"angulo\",\"longitud\",\"velocidad\",\"espesor\"]]\n",
    "Y_train = train[\"presion\"]\n",
    "\n",
    "X_test = test[[\"frecuencia\",\"angulo\",\"longitud\",\"velocidad\",\"espesor\"]]\n",
    "Y_test = test[\"presion\"]\n",
    "\n",
    "X_train_sm = sm.add_constant(X_train)\n",
    "model_sm = sm.OLS(Y_train, X_train_sm).fit()\n",
    "print(model_sm.summary())\n"
   ]
  },
  {
   "cell_type": "code",
   "execution_count": 25,
   "metadata": {},
   "outputs": [
    {
     "name": "stdout",
     "output_type": "stream",
     "text": [
      "P-values:\n",
      "const          0.000000e+00\n",
      "frecuencia    2.525369e-112\n",
      "angulo         3.340855e-18\n",
      "longitud       5.258226e-65\n",
      "velocidad      1.078980e-24\n",
      "espesor        3.580859e-14\n",
      "dtype: float64\n"
     ]
    }
   ],
   "source": [
    "print(\"P-values:\")\n",
    "print(model_sm.pvalues)"
   ]
  },
  {
   "cell_type": "markdown",
   "metadata": {},
   "source": [
    "4. Variable significativa del modelo."
   ]
  },
  {
   "cell_type": "code",
   "execution_count": null,
   "metadata": {},
   "outputs": [],
   "source": [
    "print(\"\"\"\n",
    "    Las variables que tienen mayor impacto en el modelo son:\n",
    "      - Frequencia, es la variable con el valor p más pequeño, y un coeficiente de -0.0013. \n",
    "      - Angulo, cuenta con un valor p pequeño, y un coeficiente de -0.4175.\n",
    "      - Velocidad, cuenta con un valor p pequeño, y un coeficiente de 0.1025.\n",
    "\"\"\")"
   ]
  },
  {
   "cell_type": "markdown",
   "metadata": {},
   "source": [
    "5. Cálculo del residual standard error y el R^2."
   ]
  },
  {
   "cell_type": "code",
   "execution_count": null,
   "metadata": {},
   "outputs": [],
   "source": []
  },
  {
   "cell_type": "markdown",
   "metadata": {},
   "source": [
    "6. Visualización de resultados."
   ]
  },
  {
   "cell_type": "code",
   "execution_count": null,
   "metadata": {},
   "outputs": [],
   "source": []
  }
 ],
 "metadata": {
  "kernelspec": {
   "display_name": "base",
   "language": "python",
   "name": "python3"
  },
  "language_info": {
   "codemirror_mode": {
    "name": "ipython",
    "version": 3
   },
   "file_extension": ".py",
   "mimetype": "text/x-python",
   "name": "python",
   "nbconvert_exporter": "python",
   "pygments_lexer": "ipython3",
   "version": "3.11.5"
  }
 },
 "nbformat": 4,
 "nbformat_minor": 2
}
