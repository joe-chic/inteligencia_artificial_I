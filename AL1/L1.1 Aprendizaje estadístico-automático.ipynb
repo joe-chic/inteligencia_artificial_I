{
 "cells": [
  {
   "cell_type": "markdown",
   "id": "b2deef5e",
   "metadata": {
    "id": "408208b0"
   },
   "source": [
    "# L1.1 Aprendizaje estadístico-automático\n",
    "\n",
    "A lo largo de este curso estaremos trabajando con estas *Jupyter Notebooks*, tratando de poner en práctica los conceptos aprendidos en cada clase. Pero, también las utilizaremos como herramienta de lectura para, antes de programar nuestro propio código, conocer cómo se usan algunas funciones, aprender sobre distintas librerías, etc.\n",
    "\n",
    "En esta práctica nos familiarizaremos con el lenguaje de programación Python, haciendo uso de algunas de sus funciones básicas para importar datos, modificarlos, graficarlos, etc.\n",
    "\n",
    "Por favor no modifiques las celdas con las instrucciones, y solamente escribe código en las celdas donde así se te indica. **Si en algún momento seleccionas por error una celda de instrucciones y su apariencia cambia, simplemente da click en cualquier otra celda.**\n",
    "\n",
    "Dentro de las celdas de código, las líneas que inician con un \"\\#\" son comentarios y no se ejecutarán, simplemente sirven como instrucciones o descripciones útiles para ustedes."
   ]
  },
  {
   "cell_type": "markdown",
   "id": "ddb96ea7",
   "metadata": {
    "id": "9bf69fb5"
   },
   "source": [
    "Iniciemos con un ejemplo clásico, el famoso \"Hello World!\". En la celda de abajo, simplemente utiliza la función `print()`, a la que debes darle como argumento la famosa frase, rodeada de comillas. Una vez terminado, presiona \"Ctrl + Enter\", o ejecuta la celda dando click al símbolo de *play* a la izquierda de la celda. Si no hubo errores, deberías ver debajo de tu código una consola mostrando el texto indicado.<br><br>\n",
    "\n",
    "<details>\n",
    "    <summary>Si tienes problemas, da un click aquí para mostrar la solución</summary>\n",
    "    print(\"Hello World!\")\n",
    "</details>"
   ]
  },
  {
   "cell_type": "code",
   "execution_count": 51,
   "id": "da61572f",
   "metadata": {
    "id": "6409d70f"
   },
   "outputs": [
    {
     "name": "stdout",
     "output_type": "stream",
     "text": [
      "Hello World!\n"
     ]
    }
   ],
   "source": [
    "# Escribe debajo la línea de código solicitada\n",
    "print(\"Hello World!\")\n"
   ]
  },
  {
   "cell_type": "markdown",
   "id": "e1806076",
   "metadata": {
    "id": "0c1ac701"
   },
   "source": [
    "Muy bien, es momento de utilizar funciones para trabajar con datos reales. Asegúrate que el archivo \"L1.1 Calificaciones.csv\" esté en la misma carpeta en la que actualmente estás trabajando. El primer paso será leer el archivo y guardar su información en una variable de nombre `data`, para lo que usaremos la función `read_csv()` de pandas, una librería para el análisis de datos en Python. Como argumento, simplemente pon el nombre del archivo entre comillas.\n",
    "\n",
    "Antes de usar la función, tendremos que importar a nuestro ambiente de trabajo la librería en cuestión. Para lograrlo usaremos la declaración `import`, e incluiremos un nombre más corto como sinónimo de dicha librería, para que nuestras líneas de código no sean tan extensas. Por esta ocasión, ya está escrita la línea de código para importar, asegúrate de comprenderla, pues más adelante tendrás que utilizarla con otras librerías.<br><br>\n",
    "\n",
    "<details>\n",
    "    <summary>Si tienes problemas, da un click aquí para mostrar la solución</summary>\n",
    "    data = pd.read_csv(\"Calificaciones.csv\")\n",
    "</details>"
   ]
  },
  {
   "cell_type": "code",
   "execution_count": 52,
   "id": "6940b401",
   "metadata": {
    "id": "f58355e4"
   },
   "outputs": [],
   "source": [
    "# Se importa la librería pandas, usando el término \"pd\" como sinónimo\n",
    "import pandas as pd\n",
    "# Escribe debajo la línea de código solicitada\n",
    "data = pd.read_csv(\"L1.1 Calificaciones.csv\")"
   ]
  },
  {
   "cell_type": "markdown",
   "id": "5fb95976",
   "metadata": {
    "id": "21d55c2e"
   },
   "source": [
    "Ahora revisaremos el contenido de dicho archivo, imprimiendo  con la función `print()` el resultado de aplicar la función `head()` en la variable `data`. Esta función nos ayuda a visualizar el contenido de nuestra variable, desplegando por *default* únicamente las primeras 5 filas de datos, o la cantidad de filas que especifiquemos como parámetro de la función. Inténtalo en la siguiente celda.<br><br>\n",
    "\n",
    "<details>\n",
    "    <summary>Si tienes problemas, da un click aquí para mostrar la solución</summary>\n",
    "    print(data.head())\n",
    "</details>"
   ]
  },
  {
   "cell_type": "code",
   "execution_count": 53,
   "id": "6d3ac4cd",
   "metadata": {
    "id": "fb1387c9"
   },
   "outputs": [
    {
     "name": "stdout",
     "output_type": "stream",
     "text": [
      "  Escuela Sexo  Edad  HorasDeEstudio  Reprobadas Internet  Faltas  G1  G2  G3\n",
      "0      GP    F    18               2           0       no       6   5   6   6\n",
      "1      GP    F    17               2           0      yes       4   5   5   6\n",
      "2      GP    F    15               2           3      yes      10   7   8  10\n",
      "3      GP    F    15               3           0      yes       2  15  14  15\n",
      "4      GP    F    16               2           0       no       4   6  10  10\n"
     ]
    }
   ],
   "source": [
    "# Escribe debajo la línea de código solicitada\n",
    "print(data.head())\n"
   ]
  },
  {
   "cell_type": "markdown",
   "id": "f46919d0",
   "metadata": {
    "id": "3af2bf17"
   },
   "source": [
    "En ocasiones será muy útil revisar algunas características de nuestros datos antes de usarlos para entrenar modelos. Pero, para saber qué información es de interés, necesitamos conocer nuestra base de datos. Los datos que hemos estado usando en esta lectura provienen del \"Student Performance Data Set\" generado por Paulo Cortez de la University of Minho, en Portugal.\n",
    "\n",
    "Estos datos fueron recuperados directamente de [UCI Machine Learning Repository](https://archive.ics.uci.edu/dataset/320/student+performance), un repositorio en donde pueden encontrar múltiples bases de  datos públicas y de uso libre, los invito a que lo revisen y busquen bases de dato que pudieran serles de interés.\n",
    "\n",
    "El estudio tenía la finalidad de predecir el desempeño de estudiantes en preparatoria, y se llevó a cabo en dos escuelas de Portugal en 2008. Aquí les dejo una breve descripción de las variables que estamos utilizando:\n",
    "- `Escuela` indica si el estudiante en cuestión asistía a la escuela Gabriel Pereira (GP), o a la escela Mousinho da Silveira (MS)\n",
    "- `Sexo` indica F para mujeres y H para hombres\n",
    "- `Edad` indica la edad del estudiante, con un rango de 15 a 22 años\n",
    "- `HorasDeEstudio` indica la cantidad de horas de estudio semanales: un 1 representa menos de dos horas, un 2 de dos a cinco horas, un 3 de cnco a diez horas, y un 4 más de diez horas\n",
    "- `Reprobadas` indica la cantidad de materias reprobadas previamente, entre 0 y 3. Para estudiantes con más de 3 materias reprobadas, se reportaba un 4\n",
    "- `Internet` indica si el estudiante tenía acceso a internet en su casa\n",
    "- `Faltas` indica la cantidas de veces que faltó a clases, con un rango de 0 a 93\n",
    "- `G1` indica la calificación del primer periodo, dentro de una escala del 0 al 20\n",
    "- `G2` indica la calificación del segundo periodo, dentro de una escala del 0 al 20\n",
    "- `G3` indica la calificación final, dentro de una escala del 0 al 20.\n",
    "\n",
    "En las siguientes celdas, trataremos de imprimir en la consola:\n",
    "1. La cantidad de estudiantes que asisten a cada escuela\n",
    "2. La cantidad de estudiantes de cada sexo que asisten a la escuela Gabriel Pereira\n",
    "3. El promedio de la calificación final de los estudiantes que tienen internet y de los que no tienen internet.\n",
    "\n",
    "Adicionalmente, generaremos una gráfica que muestre el promedio final contra la cantidad de faltas."
   ]
  },
  {
   "cell_type": "markdown",
   "id": "2cc03fa2",
   "metadata": {
    "id": "3b9fe66f"
   },
   "source": [
    "Para determinar la cantidad de estudiantes que asisten a cada escuela, simplemente revisaremos cuántas filas tienen el valor \"GP\" en la columna `Escuela`, y cuántas tienen un valor distinto (MS, en este caso).\n",
    "\n",
    "El término `data.Escuela` hace referencia a la columna `Escuela` de nuestro arreglo de datos `data`. La comparación `data.Escuela == \"GP\"` regresa 1 para todas las filas con valor \"GP\" en la columna `Escuela`. De forma similar, la comparación `data.Escuela != \"GP\"` regresa 1 para todas las filas con valor distinto a \"GP\" en la columna `Escuela`. La función `sum` puede usarse para sumar todos los valores de una variable. Usa esta información para imprimir en la consola de la próxima celda ambas cantidades.<br><br>\n",
    "\n",
    "<details>\n",
    "    <summary>Si tienes problemas, da un click aquí para mostrar la solución</summary>\n",
    "    print(sum(data.Escuela == \"GP\"))<br>\n",
    "    print(sum(data.Escuela != \"GP\"))\n",
    "</details>"
   ]
  },
  {
   "cell_type": "code",
   "execution_count": 54,
   "id": "6e2642da",
   "metadata": {
    "id": "6ad6826f"
   },
   "outputs": [
    {
     "name": "stdout",
     "output_type": "stream",
     "text": [
      "Cantidad de estudiantes de GP:  349\n",
      "Cantidad de estudiantes que no son de GP:  46\n"
     ]
    }
   ],
   "source": [
    "# Escribe debajo las dos líneas de código solicitadas\n",
    "\n",
    "# CANTIDAD DE ESTUDIANTES QUE ASISTEN A LA ESCUELA:\n",
    "print(\"Cantidad de estudiantes de GP: \",(data.Escuela == \"GP\").sum())\n",
    "print(\"Cantidad de estudiantes que no son de GP: \",(data.Escuela != \"GP\").sum())"
   ]
  },
  {
   "cell_type": "markdown",
   "id": "24ff544d",
   "metadata": {
    "id": "3cb27842"
   },
   "source": [
    "Para determinar la cantidad de estudiantes de cada sexo que asisten a la escuela Gabriel Pereira realizaremos un proceso similar al previo. El término `data.Escuela` hace referencia a la columna `Escuela` de nuestro arreglo de datos `data`. La comparación `data.Escuela == \"GP\"` regresa 1 para todas las filas con valor \"GP\" en la columna `Escuela`. El término `data.Sexo[data.Escuela == \"GP\"]` hace referencia a la columna `Sexo` de aquellos estudiantes que asisten a la escuela Gabriel Pereira. Por último, la comparación `data.Sexo[data.Escuela == \"GP\"] == \"F\"` regresa 1 para el subgrupo de estudiantes que asisten a la escuela Gabriel Pereira con sexo femenino. Una vez más, la función `sum` puede usarse para sumar todos los valores de una variable. Usa esta información para imprimir en la consola de la próxima celda tanto la cantidad de mujeres como de hombres que asisten a dicha escuela.<br><br>\n",
    "\n",
    "<details>\n",
    "    <summary>Si tienes problemas, da un click aquí para mostrar la solución</summary>\n",
    "    print(sum(data.Sexo[data.Escuela == \"GP\"] == \"F\"))<br>\n",
    "    print(sum(data.Sexo[data.Escuela == \"GP\"] == \"M\"))\n",
    "</details>"
   ]
  },
  {
   "cell_type": "code",
   "execution_count": 55,
   "id": "54b72d27",
   "metadata": {
    "id": "17c0a138"
   },
   "outputs": [
    {
     "name": "stdout",
     "output_type": "stream",
     "text": [
      "Cantidad de hombres en GP:  183\n",
      "Cantidad de mujeres en GP:  166\n"
     ]
    }
   ],
   "source": [
    "# Escribe debajo las dos líneas de código solicitadas\n",
    "print(\"Cantidad de hombres en GP: \",(data.Sexo[data.Escuela == \"GP\"] == \"F\").sum())\n",
    "print(\"Cantidad de mujeres en GP: \", (data.Sexo[data.Escuela == \"GP\"] == \"M\").sum())"
   ]
  },
  {
   "cell_type": "markdown",
   "id": "22087833",
   "metadata": {
    "id": "867c33d4"
   },
   "source": [
    "Para determinar el promedio de la calificación final de los estudiantes que tienen internet y de los que no tienen internet, necesitaremos hacer uso de la función `mean` de la librería `numpy`, una librería para el manejo de arreglos y matrices multidimensionales, reconocida como la librería fundamental para el cómputo científico. La librería la importaremos de forma similar a como lo hicimos con `pandas`, usando la función `import` y abreviando el nombre simplemente a `np`.\n",
    "\n",
    "Posteriormente, el término `data.Internet` hace referencia a la variable `Internet` de nuestro conjunto de datos, y la comparación `data.Internet == \"yes\"` entrega un 1 para todas las filas con valor \"yes\" en dicha columna. Asimismo, `data.G3[data.Internet == \"yes\"])` hace referencia a las calificaciones finales de aquellos estudiantes que sí cuentan con internet en su casa. Trata de usar esta información para imprimir en consola, tanto el promedio de los estudiantes con acceso a internet, como de aquellos que no lo tienen.<br><br>\n",
    "\n",
    "<details>\n",
    "    <summary>Si tienes problemas, da un click aquí para mostrar la solución</summary>\n",
    "    import numpy as np<br>\n",
    "    print(np.mean(data.G3[data.Internet == \"yes\"]))<br>\n",
    "    print(np.mean(data.G3[data.Internet == \"no\"]))\n",
    "</details>"
   ]
  },
  {
   "cell_type": "code",
   "execution_count": 56,
   "id": "dba11c42",
   "metadata": {
    "id": "7b9dee2b"
   },
   "outputs": [
    {
     "name": "stdout",
     "output_type": "stream",
     "text": [
      "Calificación promedio de estudiantes con internet:  10.617021276595745\n",
      "Calificación promedio de estudiantes sin internet:  9.409090909090908\n"
     ]
    }
   ],
   "source": [
    "# Escribe debajo las tres líneas de código solicitadas\n",
    "import numpy as np\n",
    "print(\"Calificación promedio de estudiantes con internet: \",(np.mean(data.G3[data.Internet == \"yes\"])))\n",
    "print(\"Calificación promedio de estudiantes sin internet: \", (np.mean(data.G3[data.Internet == \"no\"])))\n"
   ]
  },
  {
   "cell_type": "markdown",
   "id": "3ba7477f",
   "metadata": {
    "id": "77fa9b52"
   },
   "source": [
    "Por último, graficaremos el promedio final de los estudiantes contra la cantidad de faltas acumuladas en el ciclo escolar. Para hacer esto, necesitaremos de la librería matplotlib, una librería con funciones para crear visualizaciones en Python. Específicamente estaremos usando matplotlib.pyplot, una colección de funciones que hacen que matplotlib trabaje de forma similar a MATLAB. Importaremos esta librería con la función `import`, abreviándola como `plt`.\n",
    "\n",
    "Posteriormente, llamaremos a la función `scatter` de pyplot, usando como parámetros `x = data.Faltas` e `y = data.G3`. Esto asegurará que nuestro eje x muestre la cantidad de faltas, mientras que el eje y mostrará la calificación final. Al utilizar la función `scatter` nos aseguramos que cada observación se despliegue como un punto en nuestra gráfica, detallando la relación entre calificación final y cantidad de faltas de cada estudiante. Dentro de la misma función también agregaremos el parámetro `alpha = 0.5` que sirve para darle un poco de transparencia a los círculos, y poder visualizar secciones del plano cartesiano donde hay mucha acumulación de puntos.\n",
    "\n",
    "Por último, nos aseguraremos de que la gráfica se despliegue en pantalla con la función `show`. Notarás que en la siguiente celda ya se incluye una línea de código, `%matplotlib inline`, esta línea de código se conoce como una función mágica. No te preocupes demasiado por esto, es solamente una función que nos asegura que las gráficas se despliegan de forma adecuada cuando trabajamos dentro de una *Jupyter Notebook* o alguna herramienta similar.<br><br>\n",
    "\n",
    "<details>\n",
    "    <summary>Si tienes problemas, da un click aquí para mostrar la solución</summary>\n",
    "    import matplotlib.pyplot as plt<br>\n",
    "    plt.scatter(x = data.Faltas, y = data.G3, alpha = 0.5)<br>\n",
    "    plt.show()\n",
    "</details>"
   ]
  },
  {
   "cell_type": "code",
   "execution_count": 57,
   "id": "e6175197",
   "metadata": {
    "id": "940be452",
    "scrolled": true
   },
   "outputs": [
    {
     "data": {
      "image/png": "[encoded data removed]",
      "text/plain": [
       "<Figure size 640x480 with 1 Axes>"
      ]
     },
     "metadata": {},
     "output_type": "display_data"
    },
    {
     "name": "stdout",
     "output_type": "stream",
     "text": [
      "    Escuela Sexo  Edad  HorasDeEstudio  Reprobadas Internet  Faltas  G1  G2  \\\n",
      "276      GP    F    18               2           0      yes      75  10   9   \n",
      "\n",
      "     G3  \n",
      "276   9  \n"
     ]
    }
   ],
   "source": [
    "#Función mágica, sirve para que las imágenes se desplieguen sin problema en las *Jupyter Notebooks*\n",
    "%matplotlib inline\n",
    "# Escribe debajo las tres líneas de código solicitadas\n",
    "import matplotlib.pyplot as plt\n",
    "plt.scatter(x=data.Faltas,y=data.G3,alpha=0.5) #Alpha is the transparency of the markers in the scatter plot.\n",
    "plt.show()\n",
    "print(data[data.Faltas > 70])\n"
   ]
  },
  {
   "cell_type": "markdown",
   "id": "a7557d3d",
   "metadata": {
    "id": "db935525"
   },
   "source": [
    "Con esto, hemos finalizado la lectura interactiva de este tema. Si tienes dudas durante la actividad formativa, regresa a esta lectura para apoyarte."
   ]
  }
 ],
 "metadata": {
  "colab": {
   "provenance": []
  },
  "kernelspec": {
   "display_name": "base",
   "language": "python",
   "name": "python3"
  },
  "language_info": {
   "codemirror_mode": {
    "name": "ipython",
    "version": 3
   },
   "file_extension": ".py",
   "mimetype": "text/x-python",
   "name": "python",
   "nbconvert_exporter": "python",
   "pygments_lexer": "ipython3",
   "version": "3.11.5"
  }
 },
 "nbformat": 4,
 "nbformat_minor": 5
}
