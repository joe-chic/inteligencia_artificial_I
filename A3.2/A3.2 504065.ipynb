{
 "cells": [
  {
   "cell_type": "markdown",
   "id": "eedd0041",
   "metadata": {},
   "source": [
    "# <b>A3.2 Redes Neuronales</b>"
   ]
  },
  {
   "cell_type": "markdown",
   "id": "470e0df1",
   "metadata": {},
   "source": [
    "#### 1. Modelo de redes neuronales para la clasificación de de los dígitos 0 y 9."
   ]
  },
  {
   "cell_type": "markdown",
   "id": "1d1215f9",
   "metadata": {},
   "source": [
    "#### 2. Evaluación la exactitud del modelo en conjunto de prueba y comparación con la exactitud de validación del modelo."
   ]
  },
  {
   "cell_type": "markdown",
   "id": "a5e7c851",
   "metadata": {},
   "source": [
    "#### 3. Generación de 50 imágenes, 5 para cada dígito. Preprocesamiento para que puedan ser evaluadas de manera similar."
   ]
  },
  {
   "cell_type": "markdown",
   "id": "b3ca145b",
   "metadata": {},
   "source": [
    "#### 4. Evaluación del desempeño de las imágenes. Comparación de los resultados con los previos y motivos de potencial error."
   ]
  },
  {
   "cell_type": "markdown",
   "id": "f12c5c08",
   "metadata": {},
   "source": [
    "#### 5. 3 mejoras al sistema actual."
   ]
  },
  {
   "cell_type": "markdown",
   "id": "b01de8e6",
   "metadata": {},
   "source": [
    "#### 6. Sistema de predicción en tiempo real los dígitos 0 al 9."
   ]
  },
  {
   "cell_type": "markdown",
   "id": "baaf9696",
   "metadata": {},
   "source": [
    "#### <b>Código de honor:</b> Doy mi palabra de que he realizado esta actividad con integridad académica."
   ]
  }
 ],
 "metadata": {
  "language_info": {
   "name": "python"
  }
 },
 "nbformat": 4,
 "nbformat_minor": 5
}
