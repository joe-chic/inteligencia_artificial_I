{
 "cells": [
  {
   "cell_type": "markdown",
   "metadata": {},
   "source": [
    "# A2.1 Regresión logística y validación cruzada"
   ]
  },
  {
   "cell_type": "markdown",
   "metadata": {},
   "source": [
    "#### Para esta actividad, se trabajará con las mismas características del proyecto del primer parcial extraídas de una selección hacia atrás. La variable de sálida es PM2,5., la cual se binarizará para determinar del conjunto de datos, cual es la probabilidad de registrar un valor que es dañino para la salud, es decir, la probabilidad de registrar un valor igual o mayor que 35.5, punto en el que las personas con dificultades respiratorias empiezan a estar en riesgo."
   ]
  },
  {
   "cell_type": "code",
   "execution_count": 9,
   "metadata": {},
   "outputs": [],
   "source": [
    "# Importación de librerías necesarias\n",
    "import pandas as pd\n",
    "import numpy as np\n",
    "from sklearn.model_selection import train_test_split, cross_val_score\n",
    "from sklearn.preprocessing import StandardScaler\n",
    "from sklearn.linear_model import LogisticRegression\n",
    "from sklearn.metrics import confusion_matrix, accuracy_score, recall_score, roc_curve, auc\n",
    "import matplotlib.pyplot as plt\n",
    "import seaborn as sns"
   ]
  },
  {
   "cell_type": "markdown",
   "metadata": {},
   "source": [
    "#### 1. Se empieza por importar los datos del anterior proyecto, y se aplica el mismo proceso de filtración, separación en dos columnas para fecha y hora, así como la selección de características, y la aplicación del método Tukey para permanecer con los datos que son estadísticamente relevantes."
   ]
  },
  {
   "cell_type": "code",
   "execution_count": 10,
   "metadata": {},
   "outputs": [],
   "source": [
    "data = pd.read_excel(\"SOLICITUD_289-24_septiembre.xlsx\")"
   ]
  },
  {
   "cell_type": "code",
   "execution_count": 11,
   "metadata": {},
   "outputs": [],
   "source": [
    "data_filled = data.apply(lambda x: x.fillna(x.mean()), axis=0)\n",
    "nan_percentage = data_filled.isna().mean() * 100\n",
    "data_filled['Fecha y hora'] = pd.to_datetime(data_filled['Fecha y hora'], format='%m/%d/%Y %I:%M:%S %p')\n",
    "data_filled['Fecha'] = data_filled['Fecha y hora'].dt.date\n",
    "data_filled['Hora'] = data_filled['Fecha y hora'].dt.time\n",
    "reference_date = pd.to_datetime('2021-01-01')\n",
    "data_filled['Fecha'] = (pd.to_datetime(data_filled['Fecha']) - reference_date).dt.days\n",
    "# Convertir la columna 'Hora' en una variable cuantitativa (número de minutos desde la medianoche)\n",
    "data_filled['Hora'] = data_filled['Fecha y hora'].dt.hour * 60 + data_filled['Fecha y hora'].dt.minute\n",
    "# Eliminar la columna original 'Fecha y hora'\n",
    "data_filled = data_filled.drop(columns=['Fecha y hora'])\n",
    "\n",
    "# Eliminación de variables con alta colinealidad\n",
    "data_filled = data_filled.drop(columns=['NO (ppb)', 'NOx (ppb) '])\n",
    "\n",
    "# Método Tukey\n",
    "def tukey_outliers(column):\n",
    "    Q1 = column.quantile(0.25)\n",
    "    Q3 = column.quantile(0.75)\n",
    "    IQR = Q3 - Q1\n",
    "    lower_b = Q1 - 1.5 * IQR\n",
    "    upper_b = Q3 + 1.5 * IQR\n",
    "    return lower_b, upper_b\n",
    "\n",
    "for column in data_filled.columns:\n",
    "    if data_filled[column].dtype in ['int64', 'float64']:\n",
    "        lower_b, upper_b = tukey_outliers(data_filled[column])\n",
    "        \n",
    "        # Identify outliers\n",
    "        outliers = data_filled[(data_filled[column] < lower_b) | (data_filled[column] > upper_b)]\n",
    "\n",
    "data_filled = data_filled[data_filled['CO (ppm)'] <= 30]\n",
    "\n",
    "features = ['CO (ppm)', 'NO2 (ppb)', 'O3 (ppb)', 'PM10 (µg/m3)', 'PRS (mmHg)', \n",
    "            'RAINF (mm/h)', 'RH (%)', 'SO2 (ppb)', 'SR (kWh/m2)', 'Temp (°C)', \n",
    "            'WSR (km/h)', 'WDR (°)', 'Fecha', 'Hora']"
   ]
  },
  {
   "cell_type": "markdown",
   "metadata": {},
   "source": [
    "#### Finalmente, es necesario normalizar los datos de las características y de la variable de sálida ya que están en escalas distintas y variables con valores muy altos pueden dominar el desempeño sobre el resto. Por lo que se utilizará la desviación (&sigma;=1) y la media (&mu;=0) para hacer un ajuste propio."
   ]
  },
  {
   "cell_type": "code",
   "execution_count": 12,
   "metadata": {},
   "outputs": [],
   "source": [
    "X = data_filled[features].copy()\n",
    "y = (data_filled['PM2,5 (µg/m3)'] >= 35.5).astype(int)  # Binarización\n",
    "\n",
    "# Normalizar las características numéricas\n",
    "scaler = StandardScaler()\n",
    "X_scaled = scaler.fit_transform(X)"
   ]
  },
  {
   "cell_type": "markdown",
   "metadata": {},
   "source": [
    "#### 2. Se realiza una separación de datos en una razón de 80/20 para los datos de entrenamiento y de prueba. Después, se comprueba la distribución de clases (y=0, y=1) en los datos de entrenamiento y prueba, y revisar que sean similares. "
   ]
  },
  {
   "cell_type": "code",
   "execution_count": 13,
   "metadata": {},
   "outputs": [
    {
     "name": "stdout",
     "output_type": "stream",
     "text": [
      "Distribución en el dataset original: [0.94478852 0.05521148]\n",
      "Distribución en entrenamiento: [0.94479458 0.05520542]\n",
      "Distribución en prueba: [0.94476428 0.05523572]\n"
     ]
    }
   ],
   "source": [
    "# Dividir en datos de entrenamiento y prueba (80/20), manteniendo la proporción de clases\n",
    "X_train, X_test, y_train, y_test = train_test_split(X_scaled, y, test_size=0.2, \n",
    "                                                    stratify=y)\n",
    "\n",
    "# Verificación de proporciones de clases\n",
    "print(\"Distribución en el dataset original:\", np.bincount(y) / len(y)) # np.bincount() \n",
    "print(\"Distribución en entrenamiento:\", np.bincount(y_train) / len(y_train))\n",
    "print(\"Distribución en prueba:\", np.bincount(y_test) / len(y_test))"
   ]
  },
  {
   "cell_type": "markdown",
   "metadata": {},
   "source": [
    "#### 3. Se realiza un modelo de regresión logística con los datos de entrenamiento obtenidos en el anterior paso. Luego, se mide la exactitud del modelo mediante validación cruzada por 5 particiones, entrenando el modelo en 4 partes y utilizando la última para prueba. Este proceso se repite 5 veces, y en cada iteración se calcula la exactitud, al final se obtiene la media que nos muestra el rendimiento el modelo."
   ]
  },
  {
   "cell_type": "code",
   "execution_count": 14,
   "metadata": {},
   "outputs": [
    {
     "name": "stdout",
     "output_type": "stream",
     "text": [
      "Exactitud media en validación cruzada: 0.951058061498429\n"
     ]
    }
   ],
   "source": [
    "# Entrenar un modelo de regresión logística con validación cruzada (5-fold)\n",
    "model = LogisticRegression()\n",
    "cv_scores = cross_val_score(model, X_train, y_train, cv=5, scoring='accuracy')\n",
    "print(\"Exactitud media en validación cruzada:\", np.mean(cv_scores))"
   ]
  },
  {
   "cell_type": "markdown",
   "metadata": {},
   "source": [
    "#### 4. Para este paso, se entrena el modelo de regresión logística con el conjunto completo de datos de entrenamiento. Después se genera un vector de probabilidad para ajustar el umbral y generar las matrices de confusión, lo cual nos permitirá evaluar el desempeño del modelo bajo diferentes valores."
   ]
  },
  {
   "cell_type": "code",
   "execution_count": 15,
   "metadata": {},
   "outputs": [
    {
     "name": "stdout",
     "output_type": "stream",
     "text": [
      "\n",
      "Resultados para umbral 0.5:\n",
      "Matriz de confusión:\n",
      " [[6027   45]\n",
      " [ 277   78]]\n",
      "Exactitud: 0.9499, Sensibilidad: 0.2197, Especificidad: 0.9926\n",
      "\n",
      "Resultados para umbral 0.6:\n",
      "Matriz de confusión:\n",
      " [[6044   28]\n",
      " [ 295   60]]\n",
      "Exactitud: 0.9497, Sensibilidad: 0.1690, Especificidad: 0.9954\n",
      "\n",
      "Resultados para umbral 0.4:\n",
      "Matriz de confusión:\n",
      " [[5997   75]\n",
      " [ 250  105]]\n",
      "Exactitud: 0.9494, Sensibilidad: 0.2958, Especificidad: 0.9876\n"
     ]
    }
   ],
   "source": [
    "# Entrenar el modelo en el conjunto completo de entrenamiento\n",
    "model.fit(X_train, y_train)\n",
    "\n",
    "# Predicciones de probabilidad\n",
    "y_probs = model.predict_proba(X_test)[:, 1]  # Probabilidades de la clase positiva\n",
    "\n",
    "# Evaluación con distintos umbrales\n",
    "thresholds = [0.5, 0.6, 0.4]\n",
    "for thresh in thresholds:\n",
    "    y_pred = (y_probs >= thresh).astype(int)\n",
    "    cm = confusion_matrix(y_test, y_pred)\n",
    "    acc = accuracy_score(y_test, y_pred)\n",
    "    sens = recall_score(y_test, y_pred)  # Sensibilidad (Recall)\n",
    "    spec = cm[0, 0] / (cm[0, 0] + cm[0, 1])  # Especificidad\n",
    "    \n",
    "    print(f\"\\nResultados para umbral {thresh}:\")\n",
    "    print(\"Matriz de confusión:\\n\", cm)\n",
    "    print(f\"Exactitud: {acc:.4f}, Sensibilidad: {sens:.4f}, Especificidad: {spec:.4f}\")\n",
    "\n",
    "# Accuaracy measures the overall model performance\n",
    "# Sensitivity detects how well the model detects positive cases. High sensitivity could increase false positives.\n",
    "# Specificity detects how well the model detects negative cases"
   ]
  },
  {
   "cell_type": "markdown",
   "metadata": {},
   "source": [
    "#### Dado a que el objetivo de esta investigación es poder determinar los casos positivos para los que Y=1, se puede concluir que un umbral de 0.4 es el más óptimo, ya que tiene un mejor desempeño en la sensibilidad, por lo que se puede reportar con mayor confianza una mala calidad de aire."
   ]
  },
  {
   "cell_type": "markdown",
   "metadata": {},
   "source": [
    "#### 5. Se gráfica de la curva ROC para visualizar la tasa de falsos positivos contra la tasa de verdaderos positivos y se calcula el valor AUC a través de los datos de prueba y el vector de probabilidades."
   ]
  },
  {
   "cell_type": "code",
   "execution_count": 16,
   "metadata": {},
   "outputs": [
    {
     "data": {
      "image/png": "[encoded data removed]",
      "text/plain": [
       "<Figure size 800x600 with 1 Axes>"
      ]
     },
     "metadata": {},
     "output_type": "display_data"
    }
   ],
   "source": [
    "# Graficar curva ROC\n",
    "fpr, tpr, _ = roc_curve(y_test, y_probs)\n",
    "roc_auc = auc(fpr, tpr)\n",
    "\n",
    "plt.figure(figsize=(8, 6))\n",
    "plt.plot(fpr, tpr, color='blue', lw=2, label=f'ROC curve (AUC = {roc_auc:.2f})')\n",
    "plt.plot([0, 1], [0, 1], color='gray', linestyle='--')\n",
    "plt.xlabel('Tasa de Falsos Positivos')\n",
    "plt.ylabel('Tasa de Verdaderos Positivos')\n",
    "plt.title('Curva ROC')\n",
    "plt.legend(loc='lower right')\n",
    "plt.show()"
   ]
  },
  {
   "cell_type": "markdown",
   "metadata": {},
   "source": [
    "#### A través de los datos obtenidos, se puede determinar con AUC (0.91) que el modelo logra separar las clases decentemente."
   ]
  },
  {
   "cell_type": "markdown",
   "metadata": {},
   "source": [
    "#### 6. Por último, se imprimen los coeficientes para poder dar una interpretación de su peso en el modelo."
   ]
  },
  {
   "cell_type": "code",
   "execution_count": 17,
   "metadata": {},
   "outputs": [
    {
     "name": "stdout",
     "output_type": "stream",
     "text": [
      "\n",
      "Coeficientes del modelo de regresión logística:\n",
      "CO (ppm): 0.1905\n",
      "NO2 (ppb): 0.6392\n",
      "O3 (ppb): 0.4282\n",
      "PM10 (µg/m3): 1.1500\n",
      "PRS (mmHg): -0.2036\n",
      "RAINF (mm/h): -0.3654\n",
      "RH (%): 1.0177\n",
      "SO2 (ppb): 0.1424\n",
      "SR (kWh/m2): 0.2045\n",
      "Temp (°C): -0.3363\n",
      "WSR (km/h): 0.0352\n",
      "WDR (°): -0.1012\n",
      "Fecha: -0.8374\n",
      "Hora: 0.0652\n"
     ]
    }
   ],
   "source": [
    "coef_dict = dict(zip(features, model.coef_[0]))\n",
    "print(\"\\nCoeficientes del modelo de regresión logística:\")\n",
    "for feature, coef in coef_dict.items():\n",
    "    print(f\"{feature}: {coef:.4f}\")"
   ]
  },
  {
   "cell_type": "markdown",
   "metadata": {},
   "source": [
    "#### Se puede establecer que hay una relación positiva entre CO (ppm), NO2 (ppb), O3 (ppb), PM10 (µg/m3), RH (%), SO2 (ppb), SR (kWh/m2), WSR (km/h) y Hora, mientras que las demás variables contiente una relación negativa PRS (mmHg), RAINF (mm/h), Temp (°C), WDR (°) y Fecha. \n",
    "\n",
    "#### De las anteriores características, se describirá solo como las de mayor impacto afectan al cambio logarítmico de las probabilides. La de mayor impacto es PM10 (con 1.17), lo que representa las partículas de menos de 10 micrómetros, y que establece que cada aumento de 1 µg/m³ en PM10 casi triplica la probabilidad (𝑒^1.1729 ≈ 3.23). Después se tiene RH (%) con 1.0713, el cual representa la humedad relativa, y que se interpreta como cada aumento del 1% en RH más, dobla la probabilidad de un aire más dañino (𝑒^1.0713 ≈ 2.92). Igualmente, se tiene NO2 (0.65), NO2 en 1 ppb incrementa las probabilidades de aire dañino en un 𝑒^0.6566 ≈ 1.93 (93% más probabilidad). \n",
    "\n",
    "#### En conclusión, con base a los resultados del modelo anterior, es necesario para reducir la contaminación, monitorear y controlar NO2, PM10 y humedad relativa, ya que son los factores que aumentan más significativamente la probabilidad de tener un aire dañino con el model de regresión logística generado."
   ]
  }
 ],
 "metadata": {
  "kernelspec": {
   "display_name": "base",
   "language": "python",
   "name": "python3"
  },
  "language_info": {
   "codemirror_mode": {
    "name": "ipython",
    "version": 3
   },
   "file_extension": ".py",
   "mimetype": "text/x-python",
   "name": "python",
   "nbconvert_exporter": "python",
   "pygments_lexer": "ipython3",
   "version": "3.11.5"
  }
 },
 "nbformat": 4,
 "nbformat_minor": 2
}
