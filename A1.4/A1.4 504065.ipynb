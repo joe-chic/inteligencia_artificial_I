{
 "cells": [
  {
   "cell_type": "markdown",
   "metadata": {},
   "source": [
    "A1.4 Selección de Características"
   ]
  },
  {
   "cell_type": "code",
   "execution_count": 27,
   "metadata": {},
   "outputs": [],
   "source": [
    "import pandas as pd\n",
    "import numpy as np\n",
    "from sklearn.linear_model import LinearRegression\n",
    "from mlxtend.feature_selection import SequentialFeatureSelector as SFS\n",
    "from sklearn.model_selection import train_test_split"
   ]
  },
  {
   "cell_type": "markdown",
   "metadata": {},
   "source": [
    "1. Impresión de las primeras cinco filas de la base de datos \"A1.4 Vino Tinto\", así como la demostración de sus dimensiones."
   ]
  },
  {
   "cell_type": "code",
   "execution_count": 28,
   "metadata": {},
   "outputs": [
    {
     "name": "stdout",
     "output_type": "stream",
     "text": [
      "Primeras cinco filas: \n",
      "    acidezFija  acidezVolatil  acidoCitrico  azucarResidual  cloruros  \\\n",
      "0         7.4           0.70          0.00             1.9     0.076   \n",
      "1         7.8           0.88          0.00             2.6     0.098   \n",
      "2         7.8           0.76          0.04             2.3     0.092   \n",
      "3        11.2           0.28          0.56             1.9     0.075   \n",
      "4         7.4           0.70          0.00             1.9     0.076   \n",
      "\n",
      "   dioxidoAzufreLibre  dioxidoAzufreTotal  densidad    pH  sulfatos  alcohol  \\\n",
      "0                11.0                34.0    0.9978  3.51      0.56      9.4   \n",
      "1                25.0                67.0    0.9968  3.20      0.68      9.8   \n",
      "2                15.0                54.0    0.9970  3.26      0.65      9.8   \n",
      "3                17.0                60.0    0.9980  3.16      0.58      9.8   \n",
      "4                11.0                34.0    0.9978  3.51      0.56      9.4   \n",
      "\n",
      "   calidad  \n",
      "0        5  \n",
      "1        5  \n",
      "2        5  \n",
      "3        6  \n",
      "4        5  \n",
      "\n",
      "Dimensiones de la base de datos:\n",
      "Número de filas:  1599\n",
      "Numero de columnas:  12\n"
     ]
    }
   ],
   "source": [
    "data = pd.read_csv(\"A1.4 Vino Tinto.csv\")\n",
    "print(\"Primeras cinco filas: \\n\",data.head(5))\n",
    "print(\"\\nDimensiones de la base de datos:\")\n",
    "print(\"Número de filas: \", data.shape[0])\n",
    "print(\"Numero de columnas: \", data.shape[1])"
   ]
  },
  {
   "cell_type": "markdown",
   "metadata": {},
   "source": [
    "2. Separación de datos de entrenamiento y datos de prueba usando la función proveída por la librería sklearn.modelselection. Los datos de entranamiento son el 80% de los originales y los de prueba son el 20%, son seleccionados de manera aleatoria. Después, se imprimen las dimensiones en pantalla."
   ]
  },
  {
   "cell_type": "code",
   "execution_count": 29,
   "metadata": {},
   "outputs": [
    {
     "name": "stdout",
     "output_type": "stream",
     "text": [
      "Dimensiones de los datos de entrenamiento (filas, columnas): (1279, 12)\n",
      "Dimensiones de los datos de prueba (filas, columnas):  (320, 12)\n"
     ]
    }
   ],
   "source": [
    "train, test = train_test_split(data, test_size=0.2)\n",
    "print(\"Dimensiones de los datos de entrenamiento (filas, columnas):\", train.shape)\n",
    "print(\"Dimensiones de los datos de prueba (filas, columnas): \", test.shape)"
   ]
  },
  {
   "cell_type": "markdown",
   "metadata": {},
   "source": [
    "3. Las caraterísticas seleccionadas son las siguientes se hace mediante la técnica de selección hacia adelante. Se utiliza la librería mxltend para usar la clase SFS, la cual permitirá automáticamente conocer el mejor modelo iterando 10 veces usando las condiciones iniciales. "
   ]
  },
  {
   "cell_type": "code",
   "execution_count": 30,
   "metadata": {},
   "outputs": [
    {
     "name": "stdout",
     "output_type": "stream",
     "text": [
      "Las caracteristicas seleccionadas son:  ['acidezVolatil', 'cloruros', 'dioxidoAzufreLibre', 'dioxidoAzufreTotal', 'pH', 'sulfatos', 'alcohol']\n"
     ]
    }
   ],
   "source": [
    "model = LinearRegression()\n",
    "\n",
    "x_test = test[[\"acidezFija\",\"acidezVolatil\",\"acidoCitrico\",\"azucarResidual\",\"cloruros\",\"dioxidoAzufreLibre\",\"dioxidoAzufreTotal\",\"densidad\",\"pH\",\"sulfatos\",\"alcohol\"]]\n",
    "y_test = test[\"calidad\"]\n",
    "\n",
    "x_train = train[[\"acidezFija\",\"acidezVolatil\",\"acidoCitrico\",\"azucarResidual\",\"cloruros\",\"dioxidoAzufreLibre\",\"dioxidoAzufreTotal\",\"densidad\",\"pH\",\"sulfatos\",\"alcohol\"]]\n",
    "y_train = train[\"calidad\"]\n",
    "\n",
    "sfs = SFS(\n",
    "    model,\n",
    "    k_features=(2,8), # Rango de caracteristicas a aplicar.\n",
    "    forward=True, # Seleccion hacia adelante.\n",
    "    scoring=\"r2\", # Metrica de evaluacion.\n",
    "    cv=10 # Validacion cruzada con 10 iteraciones.\n",
    ")\n",
    "\n",
    "sfs.fit(x_train,y_train)\n",
    "selected_features = list(sfs.k_feature_names_)\n",
    "print(\"Las caracteristicas seleccionadas son: \", selected_features)"
   ]
  },
  {
   "cell_type": "markdown",
   "metadata": {},
   "source": [
    "4. Se obtiene R^2 para demostrar la capacidad de predicción del model de selección hacia adelenta."
   ]
  },
  {
   "cell_type": "code",
   "execution_count": 31,
   "metadata": {},
   "outputs": [
    {
     "name": "stdout",
     "output_type": "stream",
     "text": [
      "R^2 del modelo con las variables seleccionadas: 0.39098327331397675\n"
     ]
    }
   ],
   "source": [
    "from sklearn.metrics import r2_score\n",
    "\n",
    "x_train_selected = x_train[selected_features]\n",
    "x_test_selected = x_test[selected_features]\n",
    "\n",
    "model.fit(x_train_selected, y_train)\n",
    "\n",
    "y_pred = model.predict(x_test_selected)\n",
    "\n",
    "r2 = r2_score(y_test, y_pred)\n",
    "print(\"R^2 del modelo con las variables seleccionadas:\", r2)"
   ]
  },
  {
   "cell_type": "markdown",
   "metadata": {},
   "source": [
    "5. Se utiliza ahora el modelo de selección hacia atrás como punto de partida de comparación más adelante."
   ]
  },
  {
   "cell_type": "code",
   "execution_count": 32,
   "metadata": {},
   "outputs": [
    {
     "name": "stdout",
     "output_type": "stream",
     "text": [
      "Las caracteristicas seleccionadas del model hacia atrás son:  ['acidezVolatil', 'cloruros', 'dioxidoAzufreTotal', 'sulfatos', 'alcohol']\n"
     ]
    }
   ],
   "source": [
    "model_back = LinearRegression()\n",
    "\n",
    "sfs_back = SFS(\n",
    "    model_back,\n",
    "    k_features=(2,5), # Rango de caracteristicas a aplicar.\n",
    "    forward=False, # Seleccion hacia atrás.\n",
    "    scoring=\"r2\", # Metrica de evaluacion.\n",
    "    cv=10 # Validacion cruzada con 10 iteraciones.\n",
    ")\n",
    "\n",
    "sfs_back.fit(x_train,y_train)\n",
    "selected_features_back = list(sfs_back.k_feature_names_)\n",
    "print(\"Las caracteristicas seleccionadas del model hacia atrás son: \", selected_features_back)"
   ]
  },
  {
   "cell_type": "markdown",
   "metadata": {},
   "source": [
    "6. Demostración del valor R^2 para el modelo de seleccion hacia atras."
   ]
  },
  {
   "cell_type": "code",
   "execution_count": 34,
   "metadata": {},
   "outputs": [
    {
     "name": "stdout",
     "output_type": "stream",
     "text": [
      "R^2 del modelo con las variables seleccionadas: 0.3799267805020232\n",
      "\n",
      "El modelo con selección hacia adelante tiene un mayor R^2, lo que sugiere que incluir más variables fue beneficioso.\n"
     ]
    }
   ],
   "source": [
    "x_train_selected_back = x_train[selected_features_back]\n",
    "x_test_selected_back = x_test[selected_features_back]\n",
    "\n",
    "model_back.fit(x_train_selected_back, y_train)\n",
    "y_pred_back = model_back.predict(x_test_selected_back)\n",
    "\n",
    "r2_back = r2_score(y_test, y_pred_back)\n",
    "print(\"R^2 del modelo con las variables seleccionadas:\", r2)\n",
    "\n",
    "if r2_back > r2:\n",
    "    print(\"\\nEl modelo con selección hacia atrás tiene un mayor R^2, por lo que se ajusta mejor a los datos.\")\n",
    "else:\n",
    "    print(\"\\nEl modelo con selección hacia adelante tiene un mayor R^2, lo que sugiere que incluir más variables fue beneficioso.\")\n"
   ]
  },
  {
   "cell_type": "markdown",
   "metadata": {},
   "source": [
    "El modelo de selección hacia adelante tuvo un mayor valor en su índice, esto sugiere que usar más variables para la predicción de valores captura mejor la variabilidad, por lo que es importante la selección k_features ya que puede influir en R^2."
   ]
  },
  {
   "cell_type": "markdown",
   "metadata": {},
   "source": [
    "Código de honor: Doy mi palabra de que he realizado esta actividad con integridad académica."
   ]
  }
 ],
 "metadata": {
  "kernelspec": {
   "display_name": "base",
   "language": "python",
   "name": "python3"
  },
  "language_info": {
   "codemirror_mode": {
    "name": "ipython",
    "version": 3
   },
   "file_extension": ".py",
   "mimetype": "text/x-python",
   "name": "python",
   "nbconvert_exporter": "python",
   "pygments_lexer": "ipython3",
   "version": "3.11.5"
  }
 },
 "nbformat": 4,
 "nbformat_minor": 2
}
